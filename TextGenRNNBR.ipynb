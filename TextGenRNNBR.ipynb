{
 "cells": [
  {
   "cell_type": "markdown",
   "metadata": {},
   "source": [
    "# Introduction\n",
    "\n",
    "This fad has already come and gone, but I was amused by the 'I forced an AI to watch/read/listen to X, this is the first page'. I was quite intrigued by both the technology and the content people used.  For example, [Olive Garden](https://twitter.com/keatonpatti/status/1006961202998726665?lang=en) commercials, [Supreme Court Rulings](https://twitter.com/SCOTUSPlaces/status/1053334488376320002), and [TED Talks](https://twitter.com/KeatonPatti/status/1052933028232740865).  \n",
    "\n",
    "I decided to implement the technique using a corpus of thesuarus punk songs.  I used the [TextGenRNN](https://github.com/minimaxir/textgenrnn) package to easily generate new text from a recursive neural network trained on the text."
   ]
  },
  {
   "cell_type": "code",
   "execution_count": 9,
   "metadata": {
    "scrolled": true
   },
   "outputs": [],
   "source": [
    "import os\n",
    "import pandas as pd\n",
    "from textgenrnn import textgenrnn\n",
    "\n",
    "b = pd.read_csv('Final BR.csv')\n",
    "b.head(1)\n",
    "\n",
    "b['lyrics'].to_csv('brlyrics.csv')\n",
    "b['lyrics'].loc[b['album']=='Suffer'].to_csv('suffer.csv')\n",
    "b['lyrics'].loc[b['album']=='True North'].to_csv('True North.csv')"
   ]
  },
  {
   "cell_type": "markdown",
   "metadata": {},
   "source": [
    "# Suffer\n",
    "\n",
    "Arguably one of the best albums of Bad Religion's career, these newly unearthed lyrics leave a lot to be desired! Though I do like 'it was a deadly selfing to their south' and 'it to one of this money doing me'."
   ]
  },
  {
   "cell_type": "code",
   "execution_count": 4,
   "metadata": {
    "scrolled": true
   },
   "outputs": [
    {
     "name": "stdout",
     "output_type": "stream",
     "text": [
      "14 texts collected.\n",
      "Training on 11,764 character sequences.\n",
      "Epoch 1/2\n",
      "91/91 [==============================] - 32s 350ms/step - loss: 1.7074\n",
      "####################\n",
      "Temperature: 0.2\n",
      "####################\n",
      "155,\"                  it and an ones who can see their own doesniding to the sub and what do you tell with their own you see the source of the sour list of somerand to the competition is the door and the south pounding of the summath and they cale to see the south second of the south second of th\n",
      "\n",
      "155,\"                 int the door seriout when you see the subscore the sour lines and their own the south south second of the sease and the ones can see the sour list of the world's south poses in their own doors and the door sees we're a superman and when i do who do youurh waste in their of th\n",
      "\n",
      "155,\"                 ich the door care can be boy to the south selfing to their own doesniding the door stops of the door stops to the moniring the door selfing stops of the door south competition of the south second of the hopes and their own calichic competition. The sour doesn't want to see th\n",
      "\n",
      "####################\n",
      "Temperature: 0.5\n",
      "####################\n",
      "\"\"Y\"\n",
      "\n",
      "1555\"              interave that make a littles who does and what do you stop someone it's looking to sure you do? I want to get it ups and make me thing that see, it was deadly selfing to their south debris doesn't know to their royable is someone chering the whell more sense' they deserve the wo\n",
      "\n",
      "245,\"                  it to one of this money doing me, I am and all of fool to you trip, we're a soum. The losing their of south can stop their own they is nothing to hell who they tried our competition in their of our home. What's your deadless about an one so nothing to their of the wholer def\n",
      "\n",
      "####################\n",
      "Temperature: 1.0\n",
      "####################\n",
      "155,\"      i focky unsit, Alex Special, how i got desorten to chasing to the emapking, Russ when cascage oh, nite cops be kicking our places of pocking withing up well to they got on, promistes someones midd says, Califory Best; Iroural competitious banbic whole things ohsa toonsours. We're someon\n",
      "\n",
      "looatica telling is budget her in and someone! \"\"\"We populated by Whiong. The larriesmitting won't make you terrifice their hility of bethel? The indiotic depresity mandaplagy who won't known up̭him his peikosrony and, and us at the good is Cimes As the door black to i their ebendersun songed. Bur\n",
      "\n",
      "1554,\"   \"   get you and juriuomic and they cake that I do to the rest, The own dirns newslacy who go! We see come a door wayaok of they. Lear yours cause, make you. The life now. You can do they everycave. They know new vitk compete and abour togs well fitten of little's lones itself out somethe \n",
      "\n",
      "Epoch 2/2\n",
      "91/91 [==============================] - 28s 308ms/step - loss: 1.1401\n",
      "####################\n",
      "Temperature: 0.2\n",
      "####################\n",
      "195,\"                 welchewick and me, I got to the competition. You won't be a way to stop the subjuris and the modern debriss and the modern way the subcastes and the door subcome can see the subcast to the stone with their will you we suffer. The sound of the door stops can see, A the of the \n",
      "\n",
      "25,\"                wrone through the will you know you want to suffer. A stone and the story of the world stops call the tears and the sour specialty of the world thing one yeah. You won't be an and the modern with the sound of the of the subjuris the stones and the head is the subcastic thing wi\n",
      "\n",
      "195,\"                 will you wantning the competition and the subcastes and the modern the day is the best for you. The sour deadles is surprised and the for you. Yeah thing is the forbidden beat. I don't know what you won't stop the stone of the sour list of heat, and the ones all you want to s\n",
      "\n",
      "####################\n",
      "Temperature: 0.5\n",
      "####################\n",
      "27,\"            Long to a leades the competition of the michalling of his debriss stops competition. The propts thing when the stones will reliver to the sound of the of own you sustane, A hot leading to care but what do i destroy them? Yeah yourself is best forsian earth. A new competition and we\n",
      "\n",
      "24,\"             now I make a can you can be so best for you. The masses of heal we're nothing out the temptations with a black of the life and the subcastes and you see with the happy of the look of the surfection of the day and the brain competition. The seems the reason the dragon competition t\n",
      "\n",
      "25,\"                on everythe will i get the human everything all but the chain, I do all you can all the temptations of the sound of the band so I decrimition. I destrucied to first you want to suffer. A beat who deserted to the door and the me i get when will you're a happy second of the door.\n",
      "\n",
      "####################\n",
      "Temperature: 1.0\n",
      "####################\n",
      "154,\"   Y    found will be crempion butte dikings and Den selfis hisnerfalant. We're achino. Oh! Yee, A just yea spladest tide snow that does?  Dear the forbidden, alls, under any goe the best forget away on Herst. I got the pounding the swiden concovers for you boy and so someone is give this int\n",
      "\n",
      "27,\"             pet runed tomorrows 'your best mass that is place to trippyening the mind thread, we're see the game the girl would infiltration to high anothers. just avaital to click, As were war others, and i cruccober to you're one every. Inside the underwermine and oldesing. A took to some n\n",
      "\n",
      "1955p, T22, wrhand his domo. Thinking sufferrised our hatch to destroy and will thing all be modea Bangie yeah, A clastelf of disorder, indicate the owestone hearing that do who want to see Train for ipandent thronespericials to ohh? Another whichword pope fotalis! I've leve too guath. You're so v\n",
      "\n"
     ]
    }
   ],
   "source": [
    "textgen = textgenrnn()\n",
    "textgen.train_from_file('suffer.csv',num_epochs=1)"
   ]
  },
  {
   "cell_type": "markdown",
   "metadata": {},
   "source": [
    "# True North\n",
    "\n",
    "The most recent album has some poignant, artifically-generated lyrics like 'the sense is nothing to all the man' and 'So I can't watch a source of the world'."
   ]
  },
  {
   "cell_type": "code",
   "execution_count": 7,
   "metadata": {
    "scrolled": true
   },
   "outputs": [
    {
     "name": "stdout",
     "output_type": "stream",
     "text": [
      "15 texts collected.\n",
      "Training on 12,686 character sequences.\n",
      "Epoch 1/1\n",
      "99/99 [==============================] - 29s 296ms/step - loss: 1.2721\n",
      "####################\n",
      "Temperature: 0.2\n",
      "####################\n",
      "144,\"               Sole a traged i for the new solo see the plant the world the past is a helping a world report and a helping the world the secure in the past is the sourt of the light things the past is down and the bomb is a said The security of the resolution is dead         \n",
      "\n",
      "145,\"          So I can't watch a source of the world the world thing to do I don't make a traged in the world don't be a falling in the responsibility is the cruel the world partition in the resolution in the same of the reason to do I go to the bright is in the source of the boys i've been bears\n",
      "\n",
      "144,\"           Sole a not me a new sense on the sourd things you are a world poored the source of the source And I don't mind to go to do I don't make a sourt and the for the past is the reason the world don't make a planter in the secure and the sour And I don't know the same of the mood is a so\n",
      "\n",
      "####################\n",
      "Temperature: 0.5\n",
      "####################\n",
      "134,\"           Solyonest watch a from my parters and the sense is nothing to all the man and don't want to really can't dime i was done with a through the top things you are really when I don't want to really help you can't be all the rubber of all your faith of parters consensus i've been bett K\n",
      "\n",
      "144,          Hello, not streaming to destroy the miniate is the for the source the past is able to do I go to be I can't do I don't make the dismay i'm a said i'll be the brivinading is in when I don't make it to go it a beast of eterman And The world parten when I make a transable dominant and d\n",
      "\n",
      "554,\"             Sechrost with a no sense  Never find the line for my boss and a world and when you're a falling apparity the lane of party and i'll be the sense the resongely and the soul pay consensus is just a soring of the secure of mine and I can't be there i follow you a manification the bo\n",
      "\n",
      "####################\n",
      "Temperature: 1.0\n",
      "####################\n",
      "27,             non epic in the caremained calling our joke While x7\n",
      "\n",
      "156,ap, treed hays that will hell dimes no other with any year all them sight blind that are the malod at comple Thet A Building the navtesity i's you go Too 'Slit' We hello everything everything may be for the for all say Usery Never argum if no rest I think you finally feel When you no say Trump\n",
      "\n",
      "54,           Solyone things Bell ground         \"\n",
      "\n"
     ]
    }
   ],
   "source": [
    "textgen.train_from_file('True North.csv',num_epochs=1)"
   ]
  },
  {
   "cell_type": "markdown",
   "metadata": {},
   "source": [
    "# All Albums\n",
    "\n",
    "This dataset contains 259 texts with 263,000 character sequences. These artifically-generated lyrics sound closest to the real thing, complete with the new, plausible-sounding vocabulary words!.\n",
    "\n",
    "Some of my favorits include 'saw a rack and the trist in the free suffering', 'there is swallow rubble palving traght'.\n",
    "\n",
    "Ya Hey!"
   ]
  },
  {
   "cell_type": "code",
   "execution_count": 8,
   "metadata": {},
   "outputs": [
    {
     "name": "stdout",
     "output_type": "stream",
     "text": [
      "259 texts collected.\n",
      "Training on 263,056 character sequences.\n",
      "Epoch 1/2\n",
      "2055/2055 [==============================] - 607s 295ms/step - loss: 1.5280\n",
      "####################\n",
      "Temperature: 0.2\n",
      "####################\n",
      "188,\"         The stares of the falling common creations of the stares and the paraless is a short for the straight say I am the straight and the world of the fast crazy the start in the fast game. I don't know I am, I don't want to do who want to be the form of the fast and the faith is the strai\n",
      "\n",
      "188,\"         The straight the world reality the faith the world of the world of the fast care of the falling for the fathers and the straight is the straight recoming the stares how the world of the faith of the falling the way of the fast thing for the straight A life in the world of the faith a\n",
      "\n",
      "188,\"         Shadows of the faith with the father than the searched sea of the way the straight progress of the shampises are the faith to the world of the faith of the fast stalled beach of the fast and the father is a straight and the straight parale of the father for the faith home A paraly in\n",
      "\n",
      "####################\n",
      "Temperature: 0.5\n",
      "####################\n",
      "16,\"         Saw a rack the and the triest in the free suffering, everybody that you made on the sender been bad the moment for the end in the world hovery the love was a really common common elity of lunched the starter or installing the pack of the roose in the restrustions of the other common t\n",
      "\n",
      "188,\"         Pover Arm we were to be a comprence of the gravity I'll and the shunger most home is so here and mean the way of he can be just a late of used backniag, A bad man straight for the pain of the string city of minds and the pain of the light is conscies, A believe, A Super Graves and fa\n",
      "\n",
      "8,\"          There is a paraly for just a crame.         \"\n",
      "\n",
      "####################\n",
      "Temperature: 1.0\n",
      "####################\n",
      "75,\"         Stalk and  one to rise you going ultra There Is swallow rubble palving traght, Shaldvil ersourts is bend father and fol heaven falls of the gladal right. I'll be finders for anymay Chroble All greeporife as gold me Standing from the cive, Raise we know  Willy, Wide, Too, A tunry, now \n",
      "\n",
      "5,\"         4 A wknchairle Consence,         rten by, and straining lines are there i was enough modern ration, Gtroluration Piecally, Praloby far out And nevomance Feming mean, A bound right, Mountain of it's the einaapt in their paradive, I have pains and mountain lightment, doesnent trake, and \n",
      "\n",
      "168,\"         Scare Fantarabout as we're backing his human's chosic green if you congret Another pocketic only Singiscent this city, here a and even into lost into lucking with table ctrics Disersants at last nobody is a mrise baby fore, Pursklesss bom no rawn, East cfahise. I want himing common. \n",
      "\n",
      "Epoch 2/2\n",
      "2055/2055 [==============================] - 621s 302ms/step - loss: 1.3497\n",
      "####################\n",
      "Temperature: 0.2\n",
      "####################\n",
      "111,\"         The way of the way of the way the despite of the way you can realize you can be anything I don't know what you can do it was the paradic one day of the world of the world of the world of the star of people was a paradifember bear and the future of the way the confidence I don't know \n",
      "\n",
      "111,\"         The way of the world of a street of the world of the conscious of the world of the way to his hand Supporting and the world of the way and the way of the way they can do it on the way. A way of the way the fire of the world of the way to me. I don't know what is the more of the way t\n",
      "\n",
      "111,\"         There's a day of the march of the destiny of the way the way you can realize you can realize you won't stop the despite and a shit of the day A The grave of the way of the more to dead The way the world of the day The way the world of the man with the world of the man with a man with\n",
      "\n",
      "####################\n",
      "Temperature: 0.5\n",
      "####################\n",
      "131,\"         The expense of minds sit on your dooms Were all any worse for our life, The money is the more of the world of other depend There was the path of heart meanwhing for a human destiny of his lives and dreaming the grain of fairy day. A little things we're the future consence of and the \n",
      "\n",
      "117,\"         There's no one doss the world of minds, A dispared in the fool that you're better for your decay. We are the governmental thing of our sand. There's no fear to read the world on the march of the falls down to get a person. I don't find to the dead I can reality. A people wanna live o\n",
      "\n",
      "111,\"         There is no one can't do with the life, There's so much to be a conventure in the fire. There's a view of the man who you know what we are down for me. There's no one dead your good window They're trying to are a day in the fairy. A distory of the future of the room of hands. A dissi\n",
      "\n",
      "####################\n",
      "Temperature: 1.0\n",
      "####################\n",
      "78,\"         Close the day and watchitions with a rescues coffee consciout the ream obscreemation, We're posier me, Guess haraclent ways wish on world down To Fear. A bomb park and good its unclean, (Free. Hey) oh, his precess, we make a door unlimin, Ask I'm a rovacture A A Am finally on the cnea\n",
      "\n",
      "132,\"          Fill. This is all two yeah, don't destine Krotality A demand done is twiching 'Civids: Eddiest is someeners and  There’s an anway lendle so trying to watch you but over. You're going and done durabies, Mind I wasn't devand around the plan. Ox all those did I do overst, no don't know\n",
      "\n",
      "114,\"         I dend to big to may divide Trayer! A Psy Let's nevarian Noestre, Century layes his day.        \"\n",
      "\n"
     ]
    }
   ],
   "source": [
    "textgen.train_from_file('brlyrics.csv',num_epochs=2)"
   ]
  },
  {
   "cell_type": "code",
   "execution_count": null,
   "metadata": {},
   "outputs": [],
   "source": []
  }
 ],
 "metadata": {
  "front-matter": {
   "date": "2018-10-18",
   "title": "Generate New Lyrics with Neural Networks"
  },
  "kernelspec": {
   "display_name": "Python 3",
   "language": "python",
   "name": "python3"
  },
  "language_info": {
   "codemirror_mode": {
    "name": "ipython",
    "version": 3
   },
   "file_extension": ".py",
   "mimetype": "text/x-python",
   "name": "python",
   "nbconvert_exporter": "python",
   "pygments_lexer": "ipython3",
   "version": "3.5.2"
  }
 },
 "nbformat": 4,
 "nbformat_minor": 2
}
